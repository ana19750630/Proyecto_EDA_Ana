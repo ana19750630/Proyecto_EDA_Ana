{
 "cells": [
  {
   "cell_type": "code",
   "execution_count": 1,
   "metadata": {},
   "outputs": [],
   "source": [
    "import pandas as pd\n"
   ]
  },
  {
   "cell_type": "code",
   "execution_count": 2,
   "metadata": {},
   "outputs": [],
   "source": [
    "## Cargamos el csv\n",
    "\n",
    "ruta_del_archivo = \"./data/global_food_wastage_dataset.csv\" \n",
    "\n",
    "# Cargar el archivo CSV en un DataFrame de Pandas\n",
    "df = pd.read_csv(ruta_del_archivo)"
   ]
  },
  {
   "cell_type": "code",
   "execution_count": 3,
   "metadata": {},
   "outputs": [
    {
     "name": "stdout",
     "output_type": "stream",
     "text": [
      "<class 'pandas.core.frame.DataFrame'>\n",
      "RangeIndex: 5000 entries, 0 to 4999\n",
      "Data columns (total 8 columns):\n",
      " #   Column                     Non-Null Count  Dtype  \n",
      "---  ------                     --------------  -----  \n",
      " 0   Country                    5000 non-null   object \n",
      " 1   Year                       5000 non-null   int64  \n",
      " 2   Food Category              5000 non-null   object \n",
      " 3   Total Waste (Tons)         5000 non-null   float64\n",
      " 4   Economic Loss (Million $)  5000 non-null   float64\n",
      " 5   Avg Waste per Capita (Kg)  5000 non-null   float64\n",
      " 6   Population (Million)       5000 non-null   float64\n",
      " 7   Household Waste (%)        5000 non-null   float64\n",
      "dtypes: float64(5), int64(1), object(2)\n",
      "memory usage: 312.6+ KB\n"
     ]
    }
   ],
   "source": [
    "df.info()"
   ]
  },
  {
   "cell_type": "markdown",
   "metadata": {},
   "source": [
    "\n",
    "Country: Pais\n",
    "Year: Año\n",
    "Food Categoria: distinto tipo de comidas\n",
    "Total Waste(Tons): desperdicio en toneladas\n",
    "Economic Loss($): perdida economica\n",
    "Avg Waste per Capita(kg): residuos generados por persona\n",
    "Population (Million): población\n",
    "Household Waste (%): residuos domestticos"
   ]
  },
  {
   "cell_type": "code",
   "execution_count": 4,
   "metadata": {},
   "outputs": [
    {
     "data": {
      "application/vnd.microsoft.datawrangler.viewer.v0+json": {
       "columns": [
        {
         "name": "index",
         "rawType": "int64",
         "type": "integer"
        },
        {
         "name": "Country",
         "rawType": "object",
         "type": "string"
        },
        {
         "name": "Year",
         "rawType": "int64",
         "type": "integer"
        },
        {
         "name": "Food Category",
         "rawType": "object",
         "type": "string"
        },
        {
         "name": "Total Waste (Tons)",
         "rawType": "float64",
         "type": "float"
        },
        {
         "name": "Economic Loss (Million $)",
         "rawType": "float64",
         "type": "float"
        },
        {
         "name": "Avg Waste per Capita (Kg)",
         "rawType": "float64",
         "type": "float"
        },
        {
         "name": "Population (Million)",
         "rawType": "float64",
         "type": "float"
        },
        {
         "name": "Household Waste (%)",
         "rawType": "float64",
         "type": "float"
        }
       ],
       "conversionMethod": "pd.DataFrame",
       "ref": "d73a7e35-8d4f-4033-bbcc-cb78749d0c78",
       "rows": [
        [
         "0",
         "Australia",
         "2019",
         "Fruits & Vegetables",
         "19268.63",
         "18686.68",
         "72.69",
         "87.59",
         "53.64"
        ],
        [
         "1",
         "Indonesia",
         "2019",
         "Prepared Food",
         "3916.97",
         "4394.48",
         "192.52",
         "1153.99",
         "30.61"
        ],
        [
         "2",
         "Germany",
         "2022",
         "Dairy Products",
         "9700.16",
         "8909.16",
         "166.94",
         "1006.11",
         "48.08"
        ],
        [
         "3",
         "France",
         "2023",
         "Fruits & Vegetables",
         "46299.69",
         "40551.22",
         "120.19",
         "953.05",
         "31.91"
        ],
        [
         "4",
         "France",
         "2023",
         "Beverages",
         "33096.57",
         "36980.82",
         "104.74",
         "1105.47",
         "36.06"
        ]
       ],
       "shape": {
        "columns": 8,
        "rows": 5
       }
      },
      "text/html": [
       "<div>\n",
       "<style scoped>\n",
       "    .dataframe tbody tr th:only-of-type {\n",
       "        vertical-align: middle;\n",
       "    }\n",
       "\n",
       "    .dataframe tbody tr th {\n",
       "        vertical-align: top;\n",
       "    }\n",
       "\n",
       "    .dataframe thead th {\n",
       "        text-align: right;\n",
       "    }\n",
       "</style>\n",
       "<table border=\"1\" class=\"dataframe\">\n",
       "  <thead>\n",
       "    <tr style=\"text-align: right;\">\n",
       "      <th></th>\n",
       "      <th>Country</th>\n",
       "      <th>Year</th>\n",
       "      <th>Food Category</th>\n",
       "      <th>Total Waste (Tons)</th>\n",
       "      <th>Economic Loss (Million $)</th>\n",
       "      <th>Avg Waste per Capita (Kg)</th>\n",
       "      <th>Population (Million)</th>\n",
       "      <th>Household Waste (%)</th>\n",
       "    </tr>\n",
       "  </thead>\n",
       "  <tbody>\n",
       "    <tr>\n",
       "      <th>0</th>\n",
       "      <td>Australia</td>\n",
       "      <td>2019</td>\n",
       "      <td>Fruits &amp; Vegetables</td>\n",
       "      <td>19268.63</td>\n",
       "      <td>18686.68</td>\n",
       "      <td>72.69</td>\n",
       "      <td>87.59</td>\n",
       "      <td>53.64</td>\n",
       "    </tr>\n",
       "    <tr>\n",
       "      <th>1</th>\n",
       "      <td>Indonesia</td>\n",
       "      <td>2019</td>\n",
       "      <td>Prepared Food</td>\n",
       "      <td>3916.97</td>\n",
       "      <td>4394.48</td>\n",
       "      <td>192.52</td>\n",
       "      <td>1153.99</td>\n",
       "      <td>30.61</td>\n",
       "    </tr>\n",
       "    <tr>\n",
       "      <th>2</th>\n",
       "      <td>Germany</td>\n",
       "      <td>2022</td>\n",
       "      <td>Dairy Products</td>\n",
       "      <td>9700.16</td>\n",
       "      <td>8909.16</td>\n",
       "      <td>166.94</td>\n",
       "      <td>1006.11</td>\n",
       "      <td>48.08</td>\n",
       "    </tr>\n",
       "    <tr>\n",
       "      <th>3</th>\n",
       "      <td>France</td>\n",
       "      <td>2023</td>\n",
       "      <td>Fruits &amp; Vegetables</td>\n",
       "      <td>46299.69</td>\n",
       "      <td>40551.22</td>\n",
       "      <td>120.19</td>\n",
       "      <td>953.05</td>\n",
       "      <td>31.91</td>\n",
       "    </tr>\n",
       "    <tr>\n",
       "      <th>4</th>\n",
       "      <td>France</td>\n",
       "      <td>2023</td>\n",
       "      <td>Beverages</td>\n",
       "      <td>33096.57</td>\n",
       "      <td>36980.82</td>\n",
       "      <td>104.74</td>\n",
       "      <td>1105.47</td>\n",
       "      <td>36.06</td>\n",
       "    </tr>\n",
       "  </tbody>\n",
       "</table>\n",
       "</div>"
      ],
      "text/plain": [
       "     Country  Year        Food Category  Total Waste (Tons)  \\\n",
       "0  Australia  2019  Fruits & Vegetables            19268.63   \n",
       "1  Indonesia  2019        Prepared Food             3916.97   \n",
       "2    Germany  2022       Dairy Products             9700.16   \n",
       "3     France  2023  Fruits & Vegetables            46299.69   \n",
       "4     France  2023            Beverages            33096.57   \n",
       "\n",
       "   Economic Loss (Million $)  Avg Waste per Capita (Kg)  Population (Million)  \\\n",
       "0                   18686.68                      72.69                 87.59   \n",
       "1                    4394.48                     192.52               1153.99   \n",
       "2                    8909.16                     166.94               1006.11   \n",
       "3                   40551.22                     120.19                953.05   \n",
       "4                   36980.82                     104.74               1105.47   \n",
       "\n",
       "   Household Waste (%)  \n",
       "0                53.64  \n",
       "1                30.61  \n",
       "2                48.08  \n",
       "3                31.91  \n",
       "4                36.06  "
      ]
     },
     "execution_count": 4,
     "metadata": {},
     "output_type": "execute_result"
    }
   ],
   "source": [
    "df.head()"
   ]
  },
  {
   "cell_type": "code",
   "execution_count": 5,
   "metadata": {},
   "outputs": [
    {
     "data": {
      "text/plain": [
       "array(['Fruits & Vegetables', 'Prepared Food', 'Dairy Products',\n",
       "       'Beverages', 'Meat & Seafood', 'Grains & Cereals', 'Frozen Food',\n",
       "       'Bakery Items'], dtype=object)"
      ]
     },
     "execution_count": 5,
     "metadata": {},
     "output_type": "execute_result"
    }
   ],
   "source": [
    "Food_Category = df[\"Food Category\"].unique()\n",
    "Food_Category"
   ]
  },
  {
   "cell_type": "markdown",
   "metadata": {},
   "source": [
    "Fruits & Vegetables: Frutas y Verduras\n",
    "Prepared Food: Comida Preparada\n",
    "Dairy Products: Productos Lácteos\n",
    "Beverages: Bebidas\n",
    "Meat & Seafood: Carne y Mariscos\n",
    "Grains & Cereals: Granos y Cereales\n",
    "Frozen Food: Comida Congelada\n",
    "Bakery Items: Artículos de Panadería"
   ]
  },
  {
   "cell_type": "code",
   "execution_count": 6,
   "metadata": {},
   "outputs": [
    {
     "data": {
      "text/plain": [
       "array(['Australia', 'Indonesia', 'Germany', 'France', 'India', 'China',\n",
       "       'UK', 'South Africa', 'Japan', 'USA', 'Brazil', 'Saudi Arabia',\n",
       "       'Italy', 'Spain', 'Mexico', 'Argentina', 'Canada', 'South Korea',\n",
       "       'Russia', 'Turkey'], dtype=object)"
      ]
     },
     "execution_count": 6,
     "metadata": {},
     "output_type": "execute_result"
    }
   ],
   "source": [
    "unique_countries_list = df['Country'].unique()\n",
    "unique_countries_list"
   ]
  },
  {
   "cell_type": "code",
   "execution_count": 7,
   "metadata": {},
   "outputs": [
    {
     "name": "stdout",
     "output_type": "stream",
     "text": [
      "      Country  Year        Food Category  Total Waste (Tons)  \\\n",
      "0   Argentina  2018         Bakery Items            72290.69   \n",
      "1   Argentina  2018            Beverages           127249.21   \n",
      "2   Argentina  2018       Dairy Products            28971.41   \n",
      "3   Argentina  2018          Frozen Food            78925.33   \n",
      "4   Argentina  2018     Grains & Cereals           152731.27   \n",
      "5   Argentina  2018       Meat & Seafood           142721.79   \n",
      "6   Argentina  2018        Prepared Food            95718.55   \n",
      "7   Argentina  2019         Bakery Items           195752.55   \n",
      "8   Argentina  2019            Beverages           144968.54   \n",
      "9   Argentina  2019       Dairy Products            92750.51   \n",
      "10  Argentina  2019          Frozen Food           101200.33   \n",
      "11  Argentina  2019  Fruits & Vegetables           133584.35   \n",
      "12  Argentina  2019     Grains & Cereals            74820.30   \n",
      "13  Argentina  2019       Meat & Seafood           134707.15   \n",
      "14  Argentina  2019        Prepared Food           240272.14   \n",
      "15  Argentina  2020         Bakery Items           131389.67   \n",
      "16  Argentina  2020            Beverages           138512.74   \n",
      "17  Argentina  2020       Dairy Products            48907.94   \n",
      "18  Argentina  2020          Frozen Food           137480.84   \n",
      "19  Argentina  2020  Fruits & Vegetables           152833.11   \n",
      "\n",
      "    Economic Loss (Million $)  Avg Waste per Capita (Kg)  Household Waste (%)  \n",
      "0                    71749.94                  60.372500            59.035000  \n",
      "1                   128791.57                 131.800000            37.177500  \n",
      "2                    25935.06                  94.500000            54.286667  \n",
      "3                    87757.40                 123.780000            62.292500  \n",
      "4                   156398.00                 122.705000            53.573333  \n",
      "5                   135390.41                 129.468000            49.760000  \n",
      "6                    91724.81                 119.480000            49.292000  \n",
      "7                   177207.09                 105.304286            46.087143  \n",
      "8                   127617.22                 119.215714            45.215714  \n",
      "9                   100831.74                 144.527500            52.935000  \n",
      "10                   93551.04                 104.633333            50.363333  \n",
      "11                  148821.09                  64.368333            45.230000  \n",
      "12                   84288.58                 156.465000            45.942500  \n",
      "13                  145445.17                  98.030000            44.190000  \n",
      "14                  245309.06                  93.486250            51.931250  \n",
      "15                  143668.35                 133.270000            54.066667  \n",
      "16                  136861.63                 106.248000            46.958000  \n",
      "17                   45334.46                 117.625000            60.215000  \n",
      "18                  149343.99                  57.447500            51.775000  \n",
      "19                  154349.50                  87.675000            52.182500  \n"
     ]
    }
   ],
   "source": [
    "import pandas as pd\n",
    "\n",
    "# Agrupar por País, Año y Categoría de Alimentos\n",
    "# Sumar las columnas numéricas y calcular la media en Household Waste (%) y en Avg Waste per capita\"\n",
    "df_agrupado = df.groupby([\"Country\", \"Year\", \"Food Category\"]).agg({\n",
    "    \"Total Waste (Tons)\": \"sum\",  # Sumar desperdicio total\n",
    "    \"Economic Loss (Million $)\": \"sum\",  # Sumar pérdida económica\n",
    "    \"Avg Waste per Capita (Kg)\": \"mean\",  # Calcular media desperdicio per cápita\n",
    "    \"Household Waste (%)\": \"mean\"  # **Calcular media**\n",
    "}).reset_index()\n",
    "\n",
    "# Mostrar los primeros registros\n",
    "print(df_agrupado.head(20))\n"
   ]
  },
  {
   "cell_type": "code",
   "execution_count": 8,
   "metadata": {},
   "outputs": [
    {
     "data": {
      "application/vnd.microsoft.datawrangler.viewer.v0+json": {
       "columns": [
        {
         "name": "index",
         "rawType": "int64",
         "type": "integer"
        },
        {
         "name": "Country",
         "rawType": "object",
         "type": "string"
        },
        {
         "name": "Year",
         "rawType": "int64",
         "type": "integer"
        },
        {
         "name": "Food Category",
         "rawType": "object",
         "type": "string"
        },
        {
         "name": "Total Waste (Tons)",
         "rawType": "float64",
         "type": "float"
        },
        {
         "name": "Economic Loss (Million $)",
         "rawType": "float64",
         "type": "float"
        },
        {
         "name": "Avg Waste per Capita (Kg)",
         "rawType": "float64",
         "type": "float"
        },
        {
         "name": "Household Waste (%)",
         "rawType": "float64",
         "type": "float"
        }
       ],
       "conversionMethod": "pd.DataFrame",
       "ref": "17b611e3-7f18-47cc-826a-9fc8e26fccb1",
       "rows": [
        [
         "0",
         "Argentina",
         "2018",
         "Bakery Items",
         "72290.69",
         "71749.94",
         "60.3725",
         "59.035"
        ],
        [
         "1",
         "Argentina",
         "2018",
         "Beverages",
         "127249.20999999999",
         "128791.56999999999",
         "131.8",
         "37.1775"
        ],
        [
         "2",
         "Argentina",
         "2018",
         "Dairy Products",
         "28971.41",
         "25935.06",
         "94.5",
         "54.28666666666667"
        ],
        [
         "3",
         "Argentina",
         "2018",
         "Frozen Food",
         "78925.32999999999",
         "87757.40000000001",
         "123.78",
         "62.292500000000004"
        ],
        [
         "4",
         "Argentina",
         "2018",
         "Grains & Cereals",
         "152731.27000000002",
         "156398.0",
         "122.705",
         "53.57333333333333"
        ],
        [
         "5",
         "Argentina",
         "2018",
         "Meat & Seafood",
         "142721.78999999998",
         "135390.41",
         "129.46800000000002",
         "49.760000000000005"
        ],
        [
         "6",
         "Argentina",
         "2018",
         "Prepared Food",
         "95718.55",
         "91724.81",
         "119.48000000000002",
         "49.291999999999994"
        ],
        [
         "7",
         "Argentina",
         "2019",
         "Bakery Items",
         "195752.55",
         "177207.09",
         "105.30428571428571",
         "46.08714285714286"
        ],
        [
         "8",
         "Argentina",
         "2019",
         "Beverages",
         "144968.54",
         "127617.22",
         "119.21571428571428",
         "45.215714285714284"
        ],
        [
         "9",
         "Argentina",
         "2019",
         "Dairy Products",
         "92750.51",
         "100831.73999999999",
         "144.5275",
         "52.935"
        ],
        [
         "10",
         "Argentina",
         "2019",
         "Frozen Food",
         "101200.33",
         "93551.04",
         "104.63333333333333",
         "50.36333333333334"
        ],
        [
         "11",
         "Argentina",
         "2019",
         "Fruits & Vegetables",
         "133584.35",
         "148821.09",
         "64.36833333333333",
         "45.23"
        ],
        [
         "12",
         "Argentina",
         "2019",
         "Grains & Cereals",
         "74820.3",
         "84288.58",
         "156.465",
         "45.9425"
        ],
        [
         "13",
         "Argentina",
         "2019",
         "Meat & Seafood",
         "134707.15",
         "145445.17",
         "98.03",
         "44.19"
        ],
        [
         "14",
         "Argentina",
         "2019",
         "Prepared Food",
         "240272.14",
         "245309.06",
         "93.48625",
         "51.93125"
        ],
        [
         "15",
         "Argentina",
         "2020",
         "Bakery Items",
         "131389.66999999998",
         "143668.35",
         "133.27",
         "54.06666666666666"
        ],
        [
         "16",
         "Argentina",
         "2020",
         "Beverages",
         "138512.74000000002",
         "136861.63",
         "106.248",
         "46.958000000000006"
        ],
        [
         "17",
         "Argentina",
         "2020",
         "Dairy Products",
         "48907.94",
         "45334.46",
         "117.625",
         "60.214999999999996"
        ],
        [
         "18",
         "Argentina",
         "2020",
         "Frozen Food",
         "137480.84",
         "149343.99",
         "57.4475",
         "51.775"
        ],
        [
         "19",
         "Argentina",
         "2020",
         "Fruits & Vegetables",
         "152833.11",
         "154349.5",
         "87.675",
         "52.182500000000005"
        ],
        [
         "20",
         "Argentina",
         "2020",
         "Grains & Cereals",
         "37585.33",
         "39273.08",
         "111.63666666666667",
         "57.06333333333333"
        ],
        [
         "21",
         "Argentina",
         "2020",
         "Meat & Seafood",
         "259964.69",
         "272470.25",
         "106.93875",
         "50.004999999999995"
        ],
        [
         "22",
         "Argentina",
         "2020",
         "Prepared Food",
         "138251.6",
         "143293.96",
         "69.762",
         "57.86"
        ],
        [
         "23",
         "Argentina",
         "2021",
         "Bakery Items",
         "194173.03",
         "189038.59",
         "124.74666666666667",
         "51.14000000000001"
        ],
        [
         "24",
         "Argentina",
         "2021",
         "Beverages",
         "41928.68",
         "43526.9",
         "118.25999999999999",
         "45.95"
        ],
        [
         "25",
         "Argentina",
         "2021",
         "Dairy Products",
         "22931.47",
         "26227.980000000003",
         "103.315",
         "52.0"
        ],
        [
         "26",
         "Argentina",
         "2021",
         "Frozen Food",
         "32228.120000000003",
         "29198.81",
         "101.80333333333334",
         "53.63333333333333"
        ],
        [
         "27",
         "Argentina",
         "2021",
         "Fruits & Vegetables",
         "262616.46",
         "272672.94",
         "125.7475",
         "51.03375"
        ],
        [
         "28",
         "Argentina",
         "2021",
         "Grains & Cereals",
         "156763.14",
         "165642.49000000002",
         "81.03599999999999",
         "44.542"
        ],
        [
         "29",
         "Argentina",
         "2021",
         "Meat & Seafood",
         "151663.49",
         "145312.47",
         "132.894",
         "55.217999999999996"
        ],
        [
         "30",
         "Argentina",
         "2021",
         "Prepared Food",
         "187350.2",
         "183478.4",
         "86.35428571428572",
         "50.71857142857142"
        ],
        [
         "31",
         "Argentina",
         "2022",
         "Bakery Items",
         "111097.78",
         "111881.62",
         "54.927499999999995",
         "54.8275"
        ],
        [
         "32",
         "Argentina",
         "2022",
         "Beverages",
         "18178.59",
         "16779.38",
         "106.76",
         "51.905"
        ],
        [
         "33",
         "Argentina",
         "2022",
         "Dairy Products",
         "89774.94",
         "91647.67",
         "131.9175",
         "53.792500000000004"
        ],
        [
         "34",
         "Argentina",
         "2022",
         "Frozen Food",
         "144488.07",
         "150280.56",
         "129.97833333333332",
         "57.5"
        ],
        [
         "35",
         "Argentina",
         "2022",
         "Fruits & Vegetables",
         "176901.0",
         "173845.78",
         "110.498",
         "36.986000000000004"
        ],
        [
         "36",
         "Argentina",
         "2022",
         "Grains & Cereals",
         "23398.53",
         "21432.11",
         "150.91",
         "60.33"
        ],
        [
         "37",
         "Argentina",
         "2022",
         "Meat & Seafood",
         "60242.89",
         "60393.64",
         "102.325",
         "52.8175"
        ],
        [
         "38",
         "Argentina",
         "2022",
         "Prepared Food",
         "95954.55",
         "90552.01000000001",
         "120.92999999999999",
         "56.1925"
        ],
        [
         "39",
         "Argentina",
         "2023",
         "Bakery Items",
         "55142.54",
         "58423.149999999994",
         "78.655",
         "56.175"
        ],
        [
         "40",
         "Argentina",
         "2023",
         "Beverages",
         "87531.64",
         "89289.01000000001",
         "102.7425",
         "44.5475"
        ],
        [
         "41",
         "Argentina",
         "2023",
         "Dairy Products",
         "48008.92",
         "41651.09",
         "115.44",
         "45.33"
        ],
        [
         "42",
         "Argentina",
         "2023",
         "Frozen Food",
         "212185.97",
         "203585.98",
         "138.82857142857142",
         "53.86714285714286"
        ],
        [
         "43",
         "Argentina",
         "2023",
         "Fruits & Vegetables",
         "105476.36",
         "100715.89",
         "165.17666666666668",
         "62.78"
        ],
        [
         "44",
         "Argentina",
         "2023",
         "Grains & Cereals",
         "85280.44",
         "79062.14",
         "128.34666666666666",
         "48.73500000000001"
        ],
        [
         "45",
         "Argentina",
         "2023",
         "Meat & Seafood",
         "54907.09",
         "58228.41",
         "133.245",
         "49.72"
        ],
        [
         "46",
         "Argentina",
         "2023",
         "Prepared Food",
         "61597.05",
         "67409.72",
         "96.42333333333333",
         "39.93666666666667"
        ],
        [
         "47",
         "Argentina",
         "2024",
         "Bakery Items",
         "94809.61",
         "95032.87",
         "104.35000000000001",
         "48.34"
        ],
        [
         "48",
         "Argentina",
         "2024",
         "Beverages",
         "67166.35",
         "69684.79000000001",
         "64.76333333333334",
         "57.03"
        ],
        [
         "49",
         "Argentina",
         "2024",
         "Dairy Products",
         "110644.7",
         "110969.19",
         "129.73",
         "51.124"
        ]
       ],
       "shape": {
        "columns": 7,
        "rows": 90
       }
      },
      "text/html": [
       "<div>\n",
       "<style scoped>\n",
       "    .dataframe tbody tr th:only-of-type {\n",
       "        vertical-align: middle;\n",
       "    }\n",
       "\n",
       "    .dataframe tbody tr th {\n",
       "        vertical-align: top;\n",
       "    }\n",
       "\n",
       "    .dataframe thead th {\n",
       "        text-align: right;\n",
       "    }\n",
       "</style>\n",
       "<table border=\"1\" class=\"dataframe\">\n",
       "  <thead>\n",
       "    <tr style=\"text-align: right;\">\n",
       "      <th></th>\n",
       "      <th>Country</th>\n",
       "      <th>Year</th>\n",
       "      <th>Food Category</th>\n",
       "      <th>Total Waste (Tons)</th>\n",
       "      <th>Economic Loss (Million $)</th>\n",
       "      <th>Avg Waste per Capita (Kg)</th>\n",
       "      <th>Household Waste (%)</th>\n",
       "    </tr>\n",
       "  </thead>\n",
       "  <tbody>\n",
       "    <tr>\n",
       "      <th>0</th>\n",
       "      <td>Argentina</td>\n",
       "      <td>2018</td>\n",
       "      <td>Bakery Items</td>\n",
       "      <td>72290.69</td>\n",
       "      <td>71749.94</td>\n",
       "      <td>60.372500</td>\n",
       "      <td>59.035000</td>\n",
       "    </tr>\n",
       "    <tr>\n",
       "      <th>1</th>\n",
       "      <td>Argentina</td>\n",
       "      <td>2018</td>\n",
       "      <td>Beverages</td>\n",
       "      <td>127249.21</td>\n",
       "      <td>128791.57</td>\n",
       "      <td>131.800000</td>\n",
       "      <td>37.177500</td>\n",
       "    </tr>\n",
       "    <tr>\n",
       "      <th>2</th>\n",
       "      <td>Argentina</td>\n",
       "      <td>2018</td>\n",
       "      <td>Dairy Products</td>\n",
       "      <td>28971.41</td>\n",
       "      <td>25935.06</td>\n",
       "      <td>94.500000</td>\n",
       "      <td>54.286667</td>\n",
       "    </tr>\n",
       "    <tr>\n",
       "      <th>3</th>\n",
       "      <td>Argentina</td>\n",
       "      <td>2018</td>\n",
       "      <td>Frozen Food</td>\n",
       "      <td>78925.33</td>\n",
       "      <td>87757.40</td>\n",
       "      <td>123.780000</td>\n",
       "      <td>62.292500</td>\n",
       "    </tr>\n",
       "    <tr>\n",
       "      <th>4</th>\n",
       "      <td>Argentina</td>\n",
       "      <td>2018</td>\n",
       "      <td>Grains &amp; Cereals</td>\n",
       "      <td>152731.27</td>\n",
       "      <td>156398.00</td>\n",
       "      <td>122.705000</td>\n",
       "      <td>53.573333</td>\n",
       "    </tr>\n",
       "    <tr>\n",
       "      <th>...</th>\n",
       "      <td>...</td>\n",
       "      <td>...</td>\n",
       "      <td>...</td>\n",
       "      <td>...</td>\n",
       "      <td>...</td>\n",
       "      <td>...</td>\n",
       "      <td>...</td>\n",
       "    </tr>\n",
       "    <tr>\n",
       "      <th>85</th>\n",
       "      <td>Australia</td>\n",
       "      <td>2021</td>\n",
       "      <td>Prepared Food</td>\n",
       "      <td>37483.60</td>\n",
       "      <td>30340.62</td>\n",
       "      <td>35.060000</td>\n",
       "      <td>58.420000</td>\n",
       "    </tr>\n",
       "    <tr>\n",
       "      <th>86</th>\n",
       "      <td>Australia</td>\n",
       "      <td>2022</td>\n",
       "      <td>Beverages</td>\n",
       "      <td>85747.16</td>\n",
       "      <td>86078.43</td>\n",
       "      <td>119.026667</td>\n",
       "      <td>43.113333</td>\n",
       "    </tr>\n",
       "    <tr>\n",
       "      <th>87</th>\n",
       "      <td>Australia</td>\n",
       "      <td>2022</td>\n",
       "      <td>Dairy Products</td>\n",
       "      <td>86803.03</td>\n",
       "      <td>84040.22</td>\n",
       "      <td>100.913333</td>\n",
       "      <td>48.943333</td>\n",
       "    </tr>\n",
       "    <tr>\n",
       "      <th>88</th>\n",
       "      <td>Australia</td>\n",
       "      <td>2022</td>\n",
       "      <td>Frozen Food</td>\n",
       "      <td>172444.05</td>\n",
       "      <td>172927.65</td>\n",
       "      <td>140.250000</td>\n",
       "      <td>42.244000</td>\n",
       "    </tr>\n",
       "    <tr>\n",
       "      <th>89</th>\n",
       "      <td>Australia</td>\n",
       "      <td>2022</td>\n",
       "      <td>Fruits &amp; Vegetables</td>\n",
       "      <td>183121.68</td>\n",
       "      <td>176190.86</td>\n",
       "      <td>131.403333</td>\n",
       "      <td>47.535000</td>\n",
       "    </tr>\n",
       "  </tbody>\n",
       "</table>\n",
       "<p>90 rows × 7 columns</p>\n",
       "</div>"
      ],
      "text/plain": [
       "      Country  Year        Food Category  Total Waste (Tons)  \\\n",
       "0   Argentina  2018         Bakery Items            72290.69   \n",
       "1   Argentina  2018            Beverages           127249.21   \n",
       "2   Argentina  2018       Dairy Products            28971.41   \n",
       "3   Argentina  2018          Frozen Food            78925.33   \n",
       "4   Argentina  2018     Grains & Cereals           152731.27   \n",
       "..        ...   ...                  ...                 ...   \n",
       "85  Australia  2021        Prepared Food            37483.60   \n",
       "86  Australia  2022            Beverages            85747.16   \n",
       "87  Australia  2022       Dairy Products            86803.03   \n",
       "88  Australia  2022          Frozen Food           172444.05   \n",
       "89  Australia  2022  Fruits & Vegetables           183121.68   \n",
       "\n",
       "    Economic Loss (Million $)  Avg Waste per Capita (Kg)  Household Waste (%)  \n",
       "0                    71749.94                  60.372500            59.035000  \n",
       "1                   128791.57                 131.800000            37.177500  \n",
       "2                    25935.06                  94.500000            54.286667  \n",
       "3                    87757.40                 123.780000            62.292500  \n",
       "4                   156398.00                 122.705000            53.573333  \n",
       "..                        ...                        ...                  ...  \n",
       "85                   30340.62                  35.060000            58.420000  \n",
       "86                   86078.43                 119.026667            43.113333  \n",
       "87                   84040.22                 100.913333            48.943333  \n",
       "88                  172927.65                 140.250000            42.244000  \n",
       "89                  176190.86                 131.403333            47.535000  \n",
       "\n",
       "[90 rows x 7 columns]"
      ]
     },
     "execution_count": 8,
     "metadata": {},
     "output_type": "execute_result"
    }
   ],
   "source": [
    "df_agrupado.head(90)"
   ]
  },
  {
   "cell_type": "code",
   "execution_count": 9,
   "metadata": {},
   "outputs": [
    {
     "name": "stdout",
     "output_type": "stream",
     "text": [
      "<class 'pandas.core.frame.DataFrame'>\n",
      "RangeIndex: 1106 entries, 0 to 1105\n",
      "Data columns (total 7 columns):\n",
      " #   Column                     Non-Null Count  Dtype  \n",
      "---  ------                     --------------  -----  \n",
      " 0   Country                    1106 non-null   object \n",
      " 1   Year                       1106 non-null   int64  \n",
      " 2   Food Category              1106 non-null   object \n",
      " 3   Total Waste (Tons)         1106 non-null   float64\n",
      " 4   Economic Loss (Million $)  1106 non-null   float64\n",
      " 5   Avg Waste per Capita (Kg)  1106 non-null   float64\n",
      " 6   Household Waste (%)        1106 non-null   float64\n",
      "dtypes: float64(4), int64(1), object(2)\n",
      "memory usage: 60.6+ KB\n"
     ]
    }
   ],
   "source": [
    "df_agrupado.info()"
   ]
  },
  {
   "cell_type": "code",
   "execution_count": 10,
   "metadata": {},
   "outputs": [
    {
     "name": "stderr",
     "output_type": "stream",
     "text": [
      "C:\\Users\\Ana\\AppData\\Local\\Temp\\ipykernel_10024\\1495734368.py:12: FutureWarning: \n",
      "\n",
      "Passing `palette` without assigning `hue` is deprecated and will be removed in v0.14.0. Assign the `x` variable to `hue` and set `legend=False` for the same effect.\n",
      "\n",
      "  sns.barplot(data=df_pais_orden, x=\"Country\", y=\"Total Waste (Tons)\", palette=\"Blues_r\")\n"
     ]
    },
    {
     "data": {
      "image/png": "[encoded data removed]",
      "text/plain": [
       "<Figure size 1200x600 with 1 Axes>"
      ]
     },
     "metadata": {},
     "output_type": "display_data"
    }
   ],
   "source": [
    "import matplotlib.pyplot as plt\n",
    "import seaborn as sns\n",
    "\n",
    "# Agrupar por país y sumar el desperdicio total\n",
    "df_pais = df_agrupado.groupby(\"Country\")[\"Total Waste (Tons)\"].sum().reset_index()\n",
    "\n",
    "# Ordenar de mayor a menor desperdicio\n",
    "df_pais_orden = df_pais.sort_values(by=\"Total Waste (Tons)\", ascending=False)\n",
    "\n",
    "# Configurar el gráfico\n",
    "plt.figure(figsize=(12, 6))\n",
    "sns.barplot(data=df_pais_orden, x=\"Country\", y=\"Total Waste (Tons)\", palette=\"Blues_r\")\n",
    "\n",
    "# Personalizar el gráfico\n",
    "plt.xticks(rotation=45, ha=\"right\")  # Rotar etiquetas del eje X\n",
    "plt.xlabel(\"País\")\n",
    "plt.ylabel(\"Desperdicio Total (Tons)\")\n",
    "plt.title(\"Desperdicio Total de Comida por País\")\n",
    "plt.grid(axis=\"y\", linestyle=\"--\", alpha=0.7)\n",
    "\n",
    "# Aplicar escala logarítmica al eje Y\n",
    "plt.yscale(\"log\")\n",
    "\n",
    "# Mostrar gráfico\n",
    "plt.show()\n"
   ]
  },
  {
   "cell_type": "code",
   "execution_count": 14,
   "metadata": {},
   "outputs": [
    {
     "data": {
      "image/png": "[encoded data removed]",
      "text/plain": [
       "<Figure size 640x480 with 2 Axes>"
      ]
     },
     "metadata": {},
     "output_type": "display_data"
    },
    {
     "name": "stdout",
     "output_type": "stream",
     "text": [
      "                           Total Waste (Tons)  Economic Loss (Million $)  \\\n",
      "Total Waste (Tons)                   1.000000                   0.993647   \n",
      "Economic Loss (Million $)            0.993647                   1.000000   \n",
      "Avg Waste per Capita (Kg)            0.002581                   0.003903   \n",
      "Household Waste (%)                 -0.015075                  -0.016965   \n",
      "\n",
      "                           Avg Waste per Capita (Kg)  Household Waste (%)  \n",
      "Total Waste (Tons)                          0.002581            -0.015075  \n",
      "Economic Loss (Million $)                   0.003903            -0.016965  \n",
      "Avg Waste per Capita (Kg)                   1.000000            -0.016207  \n",
      "Household Waste (%)                        -0.016207             1.000000  \n"
     ]
    }
   ],
   "source": [
    "##Seleccionar solo las 4 columnas que quieres mostrar\n",
    "df_selected = df_agrupado[['Total Waste (Tons)', 'Economic Loss (Million $)', 'Avg Waste per Capita (Kg)', 'Household Waste (%)']]\n",
    "\n",
    "# Calcular la matriz de correlación para las columnas seleccionadas\n",
    "correlation_matrix = df_selected.corr()\n",
    "\n",
    "# Visualizar la matriz de correlación con un heatmap\n",
    "sns.heatmap(correlation_matrix, annot=True, cmap=\"coolwarm\", fmt=\".2f\")\n",
    "plt.title(\"Matriz de Correlación \")\n",
    "plt.show()\n",
    "\n",
    "# Mostrar la matriz de correlación en texto\n",
    "print(correlation_matrix)"
   ]
  },
  {
   "cell_type": "code",
   "execution_count": 15,
   "metadata": {},
   "outputs": [
    {
     "name": "stdout",
     "output_type": "stream",
     "text": [
      "         Country  Total Waste (Tons)  Economic Loss (Million $)  \\\n",
      "0      Argentina          6082367.52                 6132885.94   \n",
      "1      Australia          5887361.29                 5927789.11   \n",
      "2         Brazil          6391752.50                 6295592.19   \n",
      "3         Canada          6790678.49                 6793901.16   \n",
      "4          China          6411096.18                 6520823.56   \n",
      "5         France          6334495.00                 6243967.47   \n",
      "6        Germany          6760053.01                 6730719.94   \n",
      "7          India          6245313.77                 6260349.14   \n",
      "8      Indonesia          6294447.74                 6275755.68   \n",
      "9          Italy          6207707.28                 6206325.49   \n",
      "10         Japan          5907491.06                 5883963.18   \n",
      "11        Mexico          6589169.52                 6576477.28   \n",
      "12        Russia          5832689.46                 5813550.74   \n",
      "13  Saudi Arabia          5983283.87                 6017186.32   \n",
      "14  South Africa          6056470.30                 6059902.45   \n",
      "15   South Korea          5609107.07                 5638087.76   \n",
      "16         Spain          6790574.25                 6825152.37   \n",
      "17        Turkey          6879885.81                 6809560.62   \n",
      "18            UK          5808621.61                 5746405.51   \n",
      "19           USA          6446334.63                 6440123.44   \n",
      "\n",
      "    Avg Waste per Capita (Kg)  Household Waste (%)  \n",
      "0                  109.805168            50.875168  \n",
      "1                  108.455221            48.593982  \n",
      "2                  107.740853            50.290000  \n",
      "3                  110.320748            49.096772  \n",
      "4                  111.061489            49.903282  \n",
      "5                  111.942720            49.616402  \n",
      "6                  115.727178            49.935052  \n",
      "7                  108.914747            50.903035  \n",
      "8                  104.834918            52.306025  \n",
      "9                  112.192372            48.534427  \n",
      "10                 109.395208            49.528125  \n",
      "11                 110.263307            50.398606  \n",
      "12                 111.584852            50.621224  \n",
      "13                 114.503180            51.040377  \n",
      "14                 107.569306            48.735918  \n",
      "15                 113.139212            49.438050  \n",
      "16                 103.471825            50.303321  \n",
      "17                 105.899687            50.415156  \n",
      "18                 100.348760            50.474256  \n",
      "19                 111.771556            50.149844  \n"
     ]
    }
   ],
   "source": [
    "import pandas as pd\n",
    "\n",
    "# Agrupar por País,\n",
    "# Sumar las columnas numéricas y calcular la media en \"Household Waste (%)\"\n",
    "df_agrupado_pais = df.groupby([\"Country\"]).agg({\n",
    "    \"Total Waste (Tons)\": \"sum\",  # Sumar desperdicio total\n",
    "    \"Economic Loss (Million $)\": \"sum\",  # Sumar pérdida económica\n",
    "    \"Avg Waste per Capita (Kg)\": \"mean\",  # Calcular media desperdicio per cápita\n",
    "    \"Household Waste (%)\": \"mean\"  # **Calcular media**\n",
    "}).reset_index()\n",
    "\n",
    "# Mostrar los primeros registros\n",
    "print(df_agrupado_pais.head(60))\n"
   ]
  },
  {
   "cell_type": "code",
   "execution_count": 16,
   "metadata": {},
   "outputs": [
    {
     "data": {
      "text/plain": [
       "<seaborn.axisgrid.FacetGrid at 0x233b9a09d50>"
      ]
     },
     "execution_count": 16,
     "metadata": {},
     "output_type": "execute_result"
    },
    {
     "data": {
      "image/png": "[encoded data removed]",
      "text/plain": [
       "<Figure size 500x500 with 1 Axes>"
      ]
     },
     "metadata": {},
     "output_type": "display_data"
    }
   ],
   "source": [
    "sns.displot(df_agrupado_pais['Avg Waste per Capita (Kg)'], kde=True)"
   ]
  },
  {
   "cell_type": "code",
   "execution_count": 17,
   "metadata": {},
   "outputs": [
    {
     "data": {
      "text/plain": [
       "<seaborn.axisgrid.FacetGrid at 0x233b99d7e10>"
      ]
     },
     "execution_count": 17,
     "metadata": {},
     "output_type": "execute_result"
    },
    {
     "data": {
      "image/png": "[encoded data removed]",
      "text/plain": [
       "<Figure size 500x500 with 1 Axes>"
      ]
     },
     "metadata": {},
     "output_type": "display_data"
    }
   ],
   "source": [
    "sns.displot(df_agrupado_pais['Household Waste (%)'], kde=True)\n",
    "\n"
   ]
  },
  {
   "cell_type": "code",
   "execution_count": 18,
   "metadata": {},
   "outputs": [
    {
     "data": {
      "application/vnd.microsoft.datawrangler.viewer.v0+json": {
       "columns": [
        {
         "name": "index",
         "rawType": "int64",
         "type": "integer"
        },
        {
         "name": "Country",
         "rawType": "object",
         "type": "string"
        },
        {
         "name": "Total Waste (Tons)",
         "rawType": "float64",
         "type": "float"
        },
        {
         "name": "Economic Loss (Million $)",
         "rawType": "float64",
         "type": "float"
        },
        {
         "name": "Avg Waste per Capita (Kg)",
         "rawType": "float64",
         "type": "float"
        },
        {
         "name": "Household Waste (%)",
         "rawType": "float64",
         "type": "float"
        }
       ],
       "conversionMethod": "pd.DataFrame",
       "ref": "5ca8b7de-40c7-45ae-a704-7537369b209b",
       "rows": [
        [
         "0",
         "Argentina",
         "6082367.5200000005",
         "6132885.94",
         "109.8051680672269",
         "50.875168067226895"
        ],
        [
         "1",
         "Australia",
         "5887361.29",
         "5927789.11",
         "108.45522123893805",
         "48.59398230088495"
        ],
        [
         "2",
         "Brazil",
         "6391752.5",
         "6295592.19",
         "107.7408527131783",
         "50.29"
        ],
        [
         "3",
         "Canada",
         "6790678.49",
         "6793901.16",
         "110.32074803149607",
         "49.09677165354331"
        ],
        [
         "4",
         "China",
         "6411096.18",
         "6520823.56",
         "111.06148854961832",
         "49.90328244274809"
        ],
        [
         "5",
         "France",
         "6334495.0",
         "6243967.47",
         "111.94271966527197",
         "49.61640167364017"
        ],
        [
         "6",
         "Germany",
         "6760053.01",
         "6730719.94",
         "115.72717770034842",
         "49.93505226480836"
        ],
        [
         "7",
         "India",
         "6245313.77",
         "6260349.14",
         "108.91474708171206",
         "50.90303501945525"
        ],
        [
         "8",
         "Indonesia",
         "6294447.74",
         "6275755.68",
         "104.83491803278689",
         "52.306024590163936"
        ],
        [
         "9",
         "Italy",
         "6207707.28",
         "6206325.49",
         "112.19237154150197",
         "48.53442687747035"
        ],
        [
         "10",
         "Japan",
         "5907491.06",
         "5883963.18",
         "109.39520833333333",
         "49.528125"
        ],
        [
         "11",
         "Mexico",
         "6589169.52",
         "6576477.28",
         "110.26330677290836",
         "50.39860557768924"
        ],
        [
         "12",
         "Russia",
         "5832689.46",
         "5813550.74",
         "111.58485232067511",
         "50.62122362869198"
        ],
        [
         "13",
         "Saudi Arabia",
         "5983283.87",
         "6017186.32",
         "114.50317991631799",
         "51.040376569037655"
        ],
        [
         "14",
         "South Africa",
         "6056470.3",
         "6059902.45",
         "107.56930612244898",
         "48.73591836734693"
        ],
        [
         "15",
         "South Korea",
         "5609107.07",
         "5638087.76",
         "113.13921161825726",
         "49.43804979253112"
        ],
        [
         "16",
         "Spain",
         "6790574.25",
         "6825152.37",
         "103.47182481751824",
         "50.30332116788321"
        ],
        [
         "17",
         "Turkey",
         "6879885.81",
         "6809560.62",
         "105.8996875",
         "50.41515625"
        ],
        [
         "18",
         "UK",
         "5808621.61",
         "5746405.51",
         "100.34876033057851",
         "50.474256198347106"
        ],
        [
         "19",
         "USA",
         "6446334.63",
         "6440123.44",
         "111.77155642023347",
         "50.149844357976654"
        ]
       ],
       "shape": {
        "columns": 5,
        "rows": 20
       }
      },
      "text/html": [
       "<div>\n",
       "<style scoped>\n",
       "    .dataframe tbody tr th:only-of-type {\n",
       "        vertical-align: middle;\n",
       "    }\n",
       "\n",
       "    .dataframe tbody tr th {\n",
       "        vertical-align: top;\n",
       "    }\n",
       "\n",
       "    .dataframe thead th {\n",
       "        text-align: right;\n",
       "    }\n",
       "</style>\n",
       "<table border=\"1\" class=\"dataframe\">\n",
       "  <thead>\n",
       "    <tr style=\"text-align: right;\">\n",
       "      <th></th>\n",
       "      <th>Country</th>\n",
       "      <th>Total Waste (Tons)</th>\n",
       "      <th>Economic Loss (Million $)</th>\n",
       "      <th>Avg Waste per Capita (Kg)</th>\n",
       "      <th>Household Waste (%)</th>\n",
       "    </tr>\n",
       "  </thead>\n",
       "  <tbody>\n",
       "    <tr>\n",
       "      <th>0</th>\n",
       "      <td>Argentina</td>\n",
       "      <td>6082367.52</td>\n",
       "      <td>6132885.94</td>\n",
       "      <td>109.805168</td>\n",
       "      <td>50.875168</td>\n",
       "    </tr>\n",
       "    <tr>\n",
       "      <th>1</th>\n",
       "      <td>Australia</td>\n",
       "      <td>5887361.29</td>\n",
       "      <td>5927789.11</td>\n",
       "      <td>108.455221</td>\n",
       "      <td>48.593982</td>\n",
       "    </tr>\n",
       "    <tr>\n",
       "      <th>2</th>\n",
       "      <td>Brazil</td>\n",
       "      <td>6391752.50</td>\n",
       "      <td>6295592.19</td>\n",
       "      <td>107.740853</td>\n",
       "      <td>50.290000</td>\n",
       "    </tr>\n",
       "    <tr>\n",
       "      <th>3</th>\n",
       "      <td>Canada</td>\n",
       "      <td>6790678.49</td>\n",
       "      <td>6793901.16</td>\n",
       "      <td>110.320748</td>\n",
       "      <td>49.096772</td>\n",
       "    </tr>\n",
       "    <tr>\n",
       "      <th>4</th>\n",
       "      <td>China</td>\n",
       "      <td>6411096.18</td>\n",
       "      <td>6520823.56</td>\n",
       "      <td>111.061489</td>\n",
       "      <td>49.903282</td>\n",
       "    </tr>\n",
       "    <tr>\n",
       "      <th>5</th>\n",
       "      <td>France</td>\n",
       "      <td>6334495.00</td>\n",
       "      <td>6243967.47</td>\n",
       "      <td>111.942720</td>\n",
       "      <td>49.616402</td>\n",
       "    </tr>\n",
       "    <tr>\n",
       "      <th>6</th>\n",
       "      <td>Germany</td>\n",
       "      <td>6760053.01</td>\n",
       "      <td>6730719.94</td>\n",
       "      <td>115.727178</td>\n",
       "      <td>49.935052</td>\n",
       "    </tr>\n",
       "    <tr>\n",
       "      <th>7</th>\n",
       "      <td>India</td>\n",
       "      <td>6245313.77</td>\n",
       "      <td>6260349.14</td>\n",
       "      <td>108.914747</td>\n",
       "      <td>50.903035</td>\n",
       "    </tr>\n",
       "    <tr>\n",
       "      <th>8</th>\n",
       "      <td>Indonesia</td>\n",
       "      <td>6294447.74</td>\n",
       "      <td>6275755.68</td>\n",
       "      <td>104.834918</td>\n",
       "      <td>52.306025</td>\n",
       "    </tr>\n",
       "    <tr>\n",
       "      <th>9</th>\n",
       "      <td>Italy</td>\n",
       "      <td>6207707.28</td>\n",
       "      <td>6206325.49</td>\n",
       "      <td>112.192372</td>\n",
       "      <td>48.534427</td>\n",
       "    </tr>\n",
       "    <tr>\n",
       "      <th>10</th>\n",
       "      <td>Japan</td>\n",
       "      <td>5907491.06</td>\n",
       "      <td>5883963.18</td>\n",
       "      <td>109.395208</td>\n",
       "      <td>49.528125</td>\n",
       "    </tr>\n",
       "    <tr>\n",
       "      <th>11</th>\n",
       "      <td>Mexico</td>\n",
       "      <td>6589169.52</td>\n",
       "      <td>6576477.28</td>\n",
       "      <td>110.263307</td>\n",
       "      <td>50.398606</td>\n",
       "    </tr>\n",
       "    <tr>\n",
       "      <th>12</th>\n",
       "      <td>Russia</td>\n",
       "      <td>5832689.46</td>\n",
       "      <td>5813550.74</td>\n",
       "      <td>111.584852</td>\n",
       "      <td>50.621224</td>\n",
       "    </tr>\n",
       "    <tr>\n",
       "      <th>13</th>\n",
       "      <td>Saudi Arabia</td>\n",
       "      <td>5983283.87</td>\n",
       "      <td>6017186.32</td>\n",
       "      <td>114.503180</td>\n",
       "      <td>51.040377</td>\n",
       "    </tr>\n",
       "    <tr>\n",
       "      <th>14</th>\n",
       "      <td>South Africa</td>\n",
       "      <td>6056470.30</td>\n",
       "      <td>6059902.45</td>\n",
       "      <td>107.569306</td>\n",
       "      <td>48.735918</td>\n",
       "    </tr>\n",
       "    <tr>\n",
       "      <th>15</th>\n",
       "      <td>South Korea</td>\n",
       "      <td>5609107.07</td>\n",
       "      <td>5638087.76</td>\n",
       "      <td>113.139212</td>\n",
       "      <td>49.438050</td>\n",
       "    </tr>\n",
       "    <tr>\n",
       "      <th>16</th>\n",
       "      <td>Spain</td>\n",
       "      <td>6790574.25</td>\n",
       "      <td>6825152.37</td>\n",
       "      <td>103.471825</td>\n",
       "      <td>50.303321</td>\n",
       "    </tr>\n",
       "    <tr>\n",
       "      <th>17</th>\n",
       "      <td>Turkey</td>\n",
       "      <td>6879885.81</td>\n",
       "      <td>6809560.62</td>\n",
       "      <td>105.899687</td>\n",
       "      <td>50.415156</td>\n",
       "    </tr>\n",
       "    <tr>\n",
       "      <th>18</th>\n",
       "      <td>UK</td>\n",
       "      <td>5808621.61</td>\n",
       "      <td>5746405.51</td>\n",
       "      <td>100.348760</td>\n",
       "      <td>50.474256</td>\n",
       "    </tr>\n",
       "    <tr>\n",
       "      <th>19</th>\n",
       "      <td>USA</td>\n",
       "      <td>6446334.63</td>\n",
       "      <td>6440123.44</td>\n",
       "      <td>111.771556</td>\n",
       "      <td>50.149844</td>\n",
       "    </tr>\n",
       "  </tbody>\n",
       "</table>\n",
       "</div>"
      ],
      "text/plain": [
       "         Country  Total Waste (Tons)  Economic Loss (Million $)  \\\n",
       "0      Argentina          6082367.52                 6132885.94   \n",
       "1      Australia          5887361.29                 5927789.11   \n",
       "2         Brazil          6391752.50                 6295592.19   \n",
       "3         Canada          6790678.49                 6793901.16   \n",
       "4          China          6411096.18                 6520823.56   \n",
       "5         France          6334495.00                 6243967.47   \n",
       "6        Germany          6760053.01                 6730719.94   \n",
       "7          India          6245313.77                 6260349.14   \n",
       "8      Indonesia          6294447.74                 6275755.68   \n",
       "9          Italy          6207707.28                 6206325.49   \n",
       "10         Japan          5907491.06                 5883963.18   \n",
       "11        Mexico          6589169.52                 6576477.28   \n",
       "12        Russia          5832689.46                 5813550.74   \n",
       "13  Saudi Arabia          5983283.87                 6017186.32   \n",
       "14  South Africa          6056470.30                 6059902.45   \n",
       "15   South Korea          5609107.07                 5638087.76   \n",
       "16         Spain          6790574.25                 6825152.37   \n",
       "17        Turkey          6879885.81                 6809560.62   \n",
       "18            UK          5808621.61                 5746405.51   \n",
       "19           USA          6446334.63                 6440123.44   \n",
       "\n",
       "    Avg Waste per Capita (Kg)  Household Waste (%)  \n",
       "0                  109.805168            50.875168  \n",
       "1                  108.455221            48.593982  \n",
       "2                  107.740853            50.290000  \n",
       "3                  110.320748            49.096772  \n",
       "4                  111.061489            49.903282  \n",
       "5                  111.942720            49.616402  \n",
       "6                  115.727178            49.935052  \n",
       "7                  108.914747            50.903035  \n",
       "8                  104.834918            52.306025  \n",
       "9                  112.192372            48.534427  \n",
       "10                 109.395208            49.528125  \n",
       "11                 110.263307            50.398606  \n",
       "12                 111.584852            50.621224  \n",
       "13                 114.503180            51.040377  \n",
       "14                 107.569306            48.735918  \n",
       "15                 113.139212            49.438050  \n",
       "16                 103.471825            50.303321  \n",
       "17                 105.899687            50.415156  \n",
       "18                 100.348760            50.474256  \n",
       "19                 111.771556            50.149844  "
      ]
     },
     "execution_count": 18,
     "metadata": {},
     "output_type": "execute_result"
    }
   ],
   "source": [
    "df_agrupado_pais.head(60)"
   ]
  },
  {
   "cell_type": "code",
   "execution_count": 20,
   "metadata": {},
   "outputs": [
    {
     "data": {
      "image/png": "[encoded data removed]",
      "text/plain": [
       "<Figure size 1500x900 with 1 Axes>"
      ]
     },
     "metadata": {},
     "output_type": "display_data"
    }
   ],
   "source": [
    "import matplotlib.pyplot as plt\n",
    "import seaborn as sns\n",
    "\n",
    "# Crear el scatter plot\n",
    "plt.figure(figsize=(15, 9))\n",
    "scatter = sns.scatterplot(\n",
    "    data=df_agrupado_pais, \n",
    "    x=\"Avg Waste per Capita (Kg)\", \n",
    "    y=\"Total Waste (Tons)\", \n",
    "    hue=\"Country\",  # Cada país tendrá un color distinto\n",
    "    palette=\"husl\",  # Colores variados\n",
    "    s=100,  # Tamaño de los puntos\n",
    "    edgecolor=\"black\"  # Borde negro para mejor visibilidad\n",
    ")\n",
    "\n",
    "# Personalizar el gráfico\n",
    "plt.xlabel(\"Desperdicio medio por persona\")\n",
    "plt.ylabel(\"Desperdicio Total (Tons)\")\n",
    "plt.title(\"Relación entre Desperdicio medio por persona y Total por País\")\n",
    "plt.grid(True, linestyle=\"--\", alpha=0.7)\n",
    "\n",
    "# Aplicar escala logarítmica al eje Y\n",
    "plt.yscale(\"log\")\n",
    "\n",
    "# Mostrar gráfico\n",
    "plt.show()\n"
   ]
  }
 ],
 "metadata": {
  "kernelspec": {
   "display_name": "Python 3",
   "language": "python",
   "name": "python3"
  },
  "language_info": {
   "codemirror_mode": {
    "name": "ipython",
    "version": 3
   },
   "file_extension": ".py",
   "mimetype": "text/x-python",
   "name": "python",
   "nbconvert_exporter": "python",
   "pygments_lexer": "ipython3",
   "version": "3.11.9"
  }
 },
 "nbformat": 4,
 "nbformat_minor": 2
}
